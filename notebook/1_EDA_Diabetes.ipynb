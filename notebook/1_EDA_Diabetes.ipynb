{
  "cells": [
    {
      "cell_type": "markdown",
      "id": "d58eab01",
      "metadata": {
        "id": "d58eab01"
      },
      "source": [
        "# Diabetes Prediction Project\n",
        "**Life cycle of Machine learning Project**\n",
        "\n",
        "* Understanding the Problem Statement\n",
        "* Data Collection\n",
        "* Exploratory data analysis\n",
        "* Data Cleaning\n",
        "* Data Pre-Processing\n",
        "* Model Training \n",
        "* Choose best model"
      ]
    },
    {
      "cell_type": "markdown",
      "id": "232c806f",
      "metadata": {
        "id": "232c806f"
      },
      "source": [
        "### About\n",
        "The Diabetes prediction dataset is a collection of medical and demographic data from patients, along with their diabetes status (positive or negative). The data includes features such as age, gender, body mass index (BMI), hypertension, heart disease, smoking history, HbA1c level, and blood glucose level. This dataset can be used to build machine learning models to predict diabetes in patients based on their medical history and demographic information. This can be useful for healthcare professionals in identifying patients who may be at risk of developing diabetes and in developing personalized treatment plans. Additionally, the dataset can be used by researchers to explore the relationships between various medical and demographic factors and the likelihood of developing diabetes."
      ]
    },
    {
      "cell_type": "markdown",
      "id": "1036af93",
      "metadata": {
        "id": "1036af93"
      },
      "source": [
        "## 1) Problem statement.\n",
        "\n",
        "**Diabetes is a chronic metabolic disorder characterized by elevated blood sugar levels, resulting from either insufficient insulin production or ineffective utilization of insulin by the body. Early detection and management of diabetes are crucial for preventing complications and improving patient outcomes. Machine learning techniques offer a promising approach for predicting diabetes risk based on various factors such as demographic information, medical history, and lifestyle habits.**\n",
        "\n",
        "**In this project we are focused on developing a predictive model that accurately identifies individuals at risk of developing diabetes by building a classification model.**\n",
        "\n",
        "**The model should leverage a dataset containing relevant features such as age, gender, BMI (Body Mass Index), family history of diabetes, blood pressure, cholesterol levels, and other biochemical parameters.**\n",
        "\n",
        "**The objective is to build a robust machine learning algorithm capable of analyzing these features and providing accurate predictions regarding an individual's likelihood of developing diabetes within a specified timeframe.**\n"
      ]
    },
    {
      "cell_type": "markdown",
      "id": "b229fd41",
      "metadata": {
        "id": "b229fd41"
      },
      "source": [
        "## 2) Data Collection.\n",
        "* The Dataset is Sourced from kaggle\n",
        "* The data consists of 100000 Rows and 9 Columns\n",
        "\n",
        "https://www.kaggle.com/datasets/iammustafatz/diabetes-prediction-dataset/data"
      ]
    },
    {
      "cell_type": "markdown",
      "id": "51d88943",
      "metadata": {
        "id": "51d88943"
      },
      "source": [
        "### 2.1 Import Data and Required Packages"
      ]
    },
    {
      "cell_type": "markdown",
      "id": "ebc24403",
      "metadata": {
        "id": "ebc24403"
      },
      "source": [
        "**Importing Pandas, Numpy, Matplotlib, Seaborn and Warings Library.**"
      ]
    },
    {
      "cell_type": "code",
      "execution_count": 1,
      "id": "497ada02",
      "metadata": {
        "id": "497ada02"
      },
      "outputs": [],
      "source": [
        "import pandas as pd\n",
        "import numpy as np\n",
        "import matplotlib.pyplot as plt\n",
        "import seaborn as sns\n",
        "import plotly.express as px\n",
        "import warnings\n",
        "\n",
        "warnings.filterwarnings(\"ignore\")\n",
        "\n",
        "%matplotlib inline"
      ]
    },
    {
      "cell_type": "markdown",
      "id": "7fb6e8ec",
      "metadata": {
        "id": "7fb6e8ec"
      },
      "source": [
        "**Import the CSV Data as Pandas DataFrame**"
      ]
    },
    {
      "cell_type": "code",
      "execution_count": 2,
      "id": "53138f10",
      "metadata": {
        "id": "53138f10"
      },
      "outputs": [],
      "source": [
        "df = pd.read_csv(r\"diabetes.csv\")"
      ]
    },
    {
      "cell_type": "markdown",
      "id": "4bca2f5a",
      "metadata": {
        "id": "4bca2f5a"
      },
      "source": [
        "**Show Top 5 Records**"
      ]
    },
    {
      "cell_type": "code",
      "execution_count": 3,
      "id": "3f393178",
      "metadata": {
        "id": "3f393178",
        "outputId": "bef07e4b-4cf6-48f4-ed48-b96a8b4de66d"
      },
      "outputs": [
        {
          "data": {
            "text/html": [
              "<div>\n",
              "<style scoped>\n",
              "    .dataframe tbody tr th:only-of-type {\n",
              "        vertical-align: middle;\n",
              "    }\n",
              "\n",
              "    .dataframe tbody tr th {\n",
              "        vertical-align: top;\n",
              "    }\n",
              "\n",
              "    .dataframe thead th {\n",
              "        text-align: right;\n",
              "    }\n",
              "</style>\n",
              "<table border=\"1\" class=\"dataframe\">\n",
              "  <thead>\n",
              "    <tr style=\"text-align: right;\">\n",
              "      <th></th>\n",
              "      <th>gender</th>\n",
              "      <th>age</th>\n",
              "      <th>hypertension</th>\n",
              "      <th>heart_disease</th>\n",
              "      <th>smoking_history</th>\n",
              "      <th>bmi</th>\n",
              "      <th>HbA1c_level</th>\n",
              "      <th>blood_glucose_level</th>\n",
              "      <th>diabetes</th>\n",
              "    </tr>\n",
              "  </thead>\n",
              "  <tbody>\n",
              "    <tr>\n",
              "      <th>0</th>\n",
              "      <td>Female</td>\n",
              "      <td>80.0</td>\n",
              "      <td>0</td>\n",
              "      <td>1</td>\n",
              "      <td>never</td>\n",
              "      <td>25.19</td>\n",
              "      <td>6.6</td>\n",
              "      <td>140</td>\n",
              "      <td>0</td>\n",
              "    </tr>\n",
              "    <tr>\n",
              "      <th>1</th>\n",
              "      <td>Female</td>\n",
              "      <td>54.0</td>\n",
              "      <td>0</td>\n",
              "      <td>0</td>\n",
              "      <td>No Info</td>\n",
              "      <td>27.32</td>\n",
              "      <td>6.6</td>\n",
              "      <td>80</td>\n",
              "      <td>0</td>\n",
              "    </tr>\n",
              "    <tr>\n",
              "      <th>2</th>\n",
              "      <td>Male</td>\n",
              "      <td>28.0</td>\n",
              "      <td>0</td>\n",
              "      <td>0</td>\n",
              "      <td>never</td>\n",
              "      <td>27.32</td>\n",
              "      <td>5.7</td>\n",
              "      <td>158</td>\n",
              "      <td>0</td>\n",
              "    </tr>\n",
              "    <tr>\n",
              "      <th>3</th>\n",
              "      <td>Female</td>\n",
              "      <td>36.0</td>\n",
              "      <td>0</td>\n",
              "      <td>0</td>\n",
              "      <td>current</td>\n",
              "      <td>23.45</td>\n",
              "      <td>5.0</td>\n",
              "      <td>155</td>\n",
              "      <td>0</td>\n",
              "    </tr>\n",
              "    <tr>\n",
              "      <th>4</th>\n",
              "      <td>Male</td>\n",
              "      <td>76.0</td>\n",
              "      <td>1</td>\n",
              "      <td>1</td>\n",
              "      <td>current</td>\n",
              "      <td>20.14</td>\n",
              "      <td>4.8</td>\n",
              "      <td>155</td>\n",
              "      <td>0</td>\n",
              "    </tr>\n",
              "  </tbody>\n",
              "</table>\n",
              "</div>"
            ],
            "text/plain": [
              "   gender   age  hypertension  heart_disease smoking_history    bmi  \\\n",
              "0  Female  80.0             0              1           never  25.19   \n",
              "1  Female  54.0             0              0         No Info  27.32   \n",
              "2    Male  28.0             0              0           never  27.32   \n",
              "3  Female  36.0             0              0         current  23.45   \n",
              "4    Male  76.0             1              1         current  20.14   \n",
              "\n",
              "   HbA1c_level  blood_glucose_level  diabetes  \n",
              "0          6.6                  140         0  \n",
              "1          6.6                   80         0  \n",
              "2          5.7                  158         0  \n",
              "3          5.0                  155         0  \n",
              "4          4.8                  155         0  "
            ]
          },
          "execution_count": 3,
          "metadata": {},
          "output_type": "execute_result"
        }
      ],
      "source": [
        "df.head()"
      ]
    },
    {
      "cell_type": "markdown",
      "id": "366a9a27",
      "metadata": {
        "id": "366a9a27"
      },
      "source": [
        "**Shape of the dataset**"
      ]
    },
    {
      "cell_type": "code",
      "execution_count": 4,
      "id": "cf3c1e60",
      "metadata": {
        "id": "cf3c1e60",
        "outputId": "f5fe6bd6-30db-4f21-98ab-b2e99c83ef0a"
      },
      "outputs": [
        {
          "data": {
            "text/plain": [
              "(100000, 9)"
            ]
          },
          "execution_count": 4,
          "metadata": {},
          "output_type": "execute_result"
        }
      ],
      "source": [
        "df.shape"
      ]
    },
    {
      "cell_type": "markdown",
      "id": "de179a2c",
      "metadata": {
        "id": "de179a2c"
      },
      "source": [
        "**Summary of the dataset**"
      ]
    },
    {
      "cell_type": "code",
      "execution_count": 5,
      "id": "d1b3985f",
      "metadata": {
        "id": "d1b3985f",
        "outputId": "850e7d76-1412-4189-fd10-9581f7c4add8"
      },
      "outputs": [
        {
          "data": {
            "text/html": [
              "<div>\n",
              "<style scoped>\n",
              "    .dataframe tbody tr th:only-of-type {\n",
              "        vertical-align: middle;\n",
              "    }\n",
              "\n",
              "    .dataframe tbody tr th {\n",
              "        vertical-align: top;\n",
              "    }\n",
              "\n",
              "    .dataframe thead th {\n",
              "        text-align: right;\n",
              "    }\n",
              "</style>\n",
              "<table border=\"1\" class=\"dataframe\">\n",
              "  <thead>\n",
              "    <tr style=\"text-align: right;\">\n",
              "      <th></th>\n",
              "      <th>age</th>\n",
              "      <th>hypertension</th>\n",
              "      <th>heart_disease</th>\n",
              "      <th>bmi</th>\n",
              "      <th>HbA1c_level</th>\n",
              "      <th>blood_glucose_level</th>\n",
              "      <th>diabetes</th>\n",
              "    </tr>\n",
              "  </thead>\n",
              "  <tbody>\n",
              "    <tr>\n",
              "      <th>count</th>\n",
              "      <td>100000.000000</td>\n",
              "      <td>100000.00000</td>\n",
              "      <td>100000.000000</td>\n",
              "      <td>100000.000000</td>\n",
              "      <td>100000.000000</td>\n",
              "      <td>100000.000000</td>\n",
              "      <td>100000.000000</td>\n",
              "    </tr>\n",
              "    <tr>\n",
              "      <th>mean</th>\n",
              "      <td>41.885856</td>\n",
              "      <td>0.07485</td>\n",
              "      <td>0.039420</td>\n",
              "      <td>27.320767</td>\n",
              "      <td>5.527507</td>\n",
              "      <td>138.058060</td>\n",
              "      <td>0.085000</td>\n",
              "    </tr>\n",
              "    <tr>\n",
              "      <th>std</th>\n",
              "      <td>22.516840</td>\n",
              "      <td>0.26315</td>\n",
              "      <td>0.194593</td>\n",
              "      <td>6.636783</td>\n",
              "      <td>1.070672</td>\n",
              "      <td>40.708136</td>\n",
              "      <td>0.278883</td>\n",
              "    </tr>\n",
              "    <tr>\n",
              "      <th>min</th>\n",
              "      <td>0.080000</td>\n",
              "      <td>0.00000</td>\n",
              "      <td>0.000000</td>\n",
              "      <td>10.010000</td>\n",
              "      <td>3.500000</td>\n",
              "      <td>80.000000</td>\n",
              "      <td>0.000000</td>\n",
              "    </tr>\n",
              "    <tr>\n",
              "      <th>25%</th>\n",
              "      <td>24.000000</td>\n",
              "      <td>0.00000</td>\n",
              "      <td>0.000000</td>\n",
              "      <td>23.630000</td>\n",
              "      <td>4.800000</td>\n",
              "      <td>100.000000</td>\n",
              "      <td>0.000000</td>\n",
              "    </tr>\n",
              "    <tr>\n",
              "      <th>50%</th>\n",
              "      <td>43.000000</td>\n",
              "      <td>0.00000</td>\n",
              "      <td>0.000000</td>\n",
              "      <td>27.320000</td>\n",
              "      <td>5.800000</td>\n",
              "      <td>140.000000</td>\n",
              "      <td>0.000000</td>\n",
              "    </tr>\n",
              "    <tr>\n",
              "      <th>75%</th>\n",
              "      <td>60.000000</td>\n",
              "      <td>0.00000</td>\n",
              "      <td>0.000000</td>\n",
              "      <td>29.580000</td>\n",
              "      <td>6.200000</td>\n",
              "      <td>159.000000</td>\n",
              "      <td>0.000000</td>\n",
              "    </tr>\n",
              "    <tr>\n",
              "      <th>max</th>\n",
              "      <td>80.000000</td>\n",
              "      <td>1.00000</td>\n",
              "      <td>1.000000</td>\n",
              "      <td>95.690000</td>\n",
              "      <td>9.000000</td>\n",
              "      <td>300.000000</td>\n",
              "      <td>1.000000</td>\n",
              "    </tr>\n",
              "  </tbody>\n",
              "</table>\n",
              "</div>"
            ],
            "text/plain": [
              "                 age  hypertension  heart_disease            bmi  \\\n",
              "count  100000.000000  100000.00000  100000.000000  100000.000000   \n",
              "mean       41.885856       0.07485       0.039420      27.320767   \n",
              "std        22.516840       0.26315       0.194593       6.636783   \n",
              "min         0.080000       0.00000       0.000000      10.010000   \n",
              "25%        24.000000       0.00000       0.000000      23.630000   \n",
              "50%        43.000000       0.00000       0.000000      27.320000   \n",
              "75%        60.000000       0.00000       0.000000      29.580000   \n",
              "max        80.000000       1.00000       1.000000      95.690000   \n",
              "\n",
              "         HbA1c_level  blood_glucose_level       diabetes  \n",
              "count  100000.000000        100000.000000  100000.000000  \n",
              "mean        5.527507           138.058060       0.085000  \n",
              "std         1.070672            40.708136       0.278883  \n",
              "min         3.500000            80.000000       0.000000  \n",
              "25%         4.800000           100.000000       0.000000  \n",
              "50%         5.800000           140.000000       0.000000  \n",
              "75%         6.200000           159.000000       0.000000  \n",
              "max         9.000000           300.000000       1.000000  "
            ]
          },
          "execution_count": 5,
          "metadata": {},
          "output_type": "execute_result"
        }
      ],
      "source": [
        "# Display summary statistics for a dataframe\n",
        "df.describe()"
      ]
    },
    {
      "cell_type": "markdown",
      "id": "ebd33cec",
      "metadata": {
        "id": "ebd33cec"
      },
      "source": [
        "**Check Datatypes in the dataset**"
      ]
    },
    {
      "cell_type": "code",
      "execution_count": 6,
      "id": "e0c346e6",
      "metadata": {
        "id": "e0c346e6",
        "outputId": "a8a38e5b-9c5c-4872-b4e2-d53cc2af8ec8"
      },
      "outputs": [
        {
          "name": "stdout",
          "output_type": "stream",
          "text": [
            "<class 'pandas.core.frame.DataFrame'>\n",
            "RangeIndex: 100000 entries, 0 to 99999\n",
            "Data columns (total 9 columns):\n",
            " #   Column               Non-Null Count   Dtype  \n",
            "---  ------               --------------   -----  \n",
            " 0   gender               100000 non-null  object \n",
            " 1   age                  100000 non-null  float64\n",
            " 2   hypertension         100000 non-null  int64  \n",
            " 3   heart_disease        100000 non-null  int64  \n",
            " 4   smoking_history      100000 non-null  object \n",
            " 5   bmi                  100000 non-null  float64\n",
            " 6   HbA1c_level          100000 non-null  float64\n",
            " 7   blood_glucose_level  100000 non-null  int64  \n",
            " 8   diabetes             100000 non-null  int64  \n",
            "dtypes: float64(3), int64(4), object(2)\n",
            "memory usage: 6.9+ MB\n"
          ]
        }
      ],
      "source": [
        "# Check Null and Dtypes\n",
        "df.info()"
      ]
    },
    {
      "cell_type": "markdown",
      "id": "a5ee9991",
      "metadata": {
        "id": "a5ee9991"
      },
      "source": [
        "## 3. EXPLORING DATA"
      ]
    },
    {
      "cell_type": "code",
      "execution_count": 7,
      "id": "69f4ca25",
      "metadata": {
        "id": "69f4ca25",
        "outputId": "5e8ee88a-9685-4d6c-d412-01a340e46c53"
      },
      "outputs": [
        {
          "name": "stdout",
          "output_type": "stream",
          "text": [
            "We have 7 numerical features : ['age', 'hypertension', 'heart_disease', 'bmi', 'HbA1c_level', 'blood_glucose_level', 'diabetes']\n",
            "\n",
            "We have 2 categorical features : ['gender', 'smoking_history']\n"
          ]
        }
      ],
      "source": [
        "# define numerical & categorical columns\n",
        "numeric_features = [feature for feature in df.columns if df[feature].dtype != 'O']\n",
        "categorical_features = [feature for feature in df.columns if df[feature].dtype == 'O']\n",
        "\n",
        "# print columns\n",
        "print('We have {} numerical features : {}'.format(len(numeric_features), numeric_features))\n",
        "print('\\nWe have {} categorical features : {}'.format(len(categorical_features), categorical_features))"
      ]
    },
    {
      "cell_type": "code",
      "execution_count": 8,
      "id": "6bf5721e",
      "metadata": {
        "id": "6bf5721e",
        "outputId": "390b79b7-409b-45b8-d66c-6f3ee6813a54"
      },
      "outputs": [
        {
          "name": "stdout",
          "output_type": "stream",
          "text": [
            "Female    58.552\n",
            "Male      41.430\n",
            "Other      0.018\n",
            "Name: gender, dtype: float64\n",
            "---------------------------\n",
            "No Info        35.816\n",
            "never          35.095\n",
            "former          9.352\n",
            "current         9.286\n",
            "not current     6.447\n",
            "ever            4.004\n",
            "Name: smoking_history, dtype: float64\n",
            "---------------------------\n"
          ]
        }
      ],
      "source": [
        "# proportion of count data on categorical columns\n",
        "for col in categorical_features:\n",
        "    print(df[col].value_counts(normalize=True) * 100)\n",
        "    print('---------------------------')"
      ]
    },
    {
      "cell_type": "markdown",
      "id": "6f7b4aa1",
      "metadata": {},
      "source": []
    }
  ],
  "metadata": {
    "colab": {
      "provenance": []
    },
    "kernelspec": {
      "display_name": "Python 3.9.12",
      "language": "python",
      "name": "python3"
    },
    "language_info": {
      "codemirror_mode": {
        "name": "ipython",
        "version": 3
      },
      "file_extension": ".py",
      "mimetype": "text/x-python",
      "name": "python",
      "nbconvert_exporter": "python",
      "pygments_lexer": "ipython3",
      "version": "3.9.12"
    },
    "vscode": {
      "interpreter": {
        "hash": "5a68f6ecedcad3e04b80fc42940e6ae8f4036c42c422733a292a180456010fa5"
      }
    }
  },
  "nbformat": 4,
  "nbformat_minor": 5
}
